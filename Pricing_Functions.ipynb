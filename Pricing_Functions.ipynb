{
 "cells": [
  {
   "cell_type": "code",
   "execution_count": 8,
   "metadata": {},
   "outputs": [],
   "source": [
    "import pandas as pd \n",
    "import matplotlib.pyplot as plt\n",
    "import seaborn as sns\n",
    "import re\n",
    "import yfinance as yf\n",
    "import numpy as np\n",
    "from datetime import datetime\n",
    "import time\n",
    "from scipy.stats import norm\n"
   ]
  },
  {
   "cell_type": "code",
   "execution_count": 2,
   "metadata": {},
   "outputs": [],
   "source": [
    "def get_todays_price(ticker_symbol):\n",
    "    \"\"\"\n",
    "    Fetches the most recent trading price for the given ticker.\n",
    "    \"\"\"\n",
    "    ticker = yf.Ticker(ticker_symbol)\n",
    "    try:\n",
    "        data = ticker.history(period=\"1d\", interval=\"1m\")\n",
    "        if data.empty:\n",
    "            raise ValueError(\"No intraday data returned.\")\n",
    "        price = data[\"Close\"].iloc[-1]\n",
    "        return round(price, 2)\n",
    "    except Exception as e:\n",
    "        print(f\"Error fetching price for {ticker_symbol}: {e}\")\n",
    "        return None"
   ]
  },
  {
   "cell_type": "code",
   "execution_count": 3,
   "metadata": {},
   "outputs": [],
   "source": [
    "def fetch_full_option_chain(ticker_symbol, max_expirations=5, sleep_time=1):\n",
    "    \"\"\"\n",
    "    Fetches all options (calls & puts) for a ticker across multiple expiration dates.\n",
    "    \"\"\"\n",
    "    ticker = yf.Ticker(ticker_symbol)\n",
    "    expirations = ticker.options[:max_expirations]\n",
    "    all_options = []\n",
    "\n",
    "    for expiry in expirations:\n",
    "        try:\n",
    "            chain = ticker.option_chain(expiry)\n",
    "            calls = chain.calls.copy()\n",
    "            puts = chain.puts.copy()\n",
    "\n",
    "            # Label type\n",
    "            calls[\"type\"] = \"call\"\n",
    "            puts[\"type\"] = \"put\"\n",
    "\n",
    "            # Add expiration column\n",
    "            calls[\"expiration\"] = expiry\n",
    "            puts[\"expiration\"] = expiry\n",
    "\n",
    "            # Merge calls & puts\n",
    "            combined = pd.concat([calls, puts], ignore_index=True)\n",
    "            all_options.append(combined)\n",
    "\n",
    "            print(f\"Fetched {len(combined)} contracts for expiry {expiry}\")\n",
    "            time.sleep(sleep_time)\n",
    "\n",
    "        except Exception as e:\n",
    "            print(f\"⚠️ Failed on {expiry}: {e}\")\n",
    "            continue\n",
    "\n",
    "    return pd.concat(all_options, ignore_index=True) if all_options else pd.DataFrame()"
   ]
  },
  {
   "cell_type": "code",
   "execution_count": 4,
   "metadata": {},
   "outputs": [],
   "source": [
    "def black_scholes_price(S, K, T, r, sigma, option_type='call'):\n",
    "    if T <= 0 or sigma <= 0:\n",
    "        return max(0, S - K) if option_type == 'call' else max(0, K - S)\n",
    "    d1 = (np.log(S / K) + (r + 0.5 * sigma ** 2) * T) / (sigma * np.sqrt(T))\n",
    "    d2 = d1 - sigma * np.sqrt(T)\n",
    "    if option_type == 'call':\n",
    "        return S * norm.cdf(d1) - K * np.exp(-r * T) * norm.cdf(d2)\n",
    "    else:\n",
    "        return K * np.exp(-r * T) * norm.cdf(-d2) - S * norm.cdf(-d1)"
   ]
  },
  {
   "cell_type": "code",
   "execution_count": 5,
   "metadata": {},
   "outputs": [],
   "source": [
    "def calculate_bs_prices(df, S, r=0.045):\n",
    "    df = df.copy()\n",
    "    df[\"T\"] = df[\"days_to_expiration\"] / 365\n",
    "\n",
    "    df[\"bs_price\"] = df.apply(\n",
    "        lambda row: black_scholes_price(\n",
    "            S=S,\n",
    "            K=row[\"strike\"],\n",
    "            T=row[\"T\"],\n",
    "            r=r,\n",
    "            sigma=row[\"impliedVolatility\"],\n",
    "            option_type=row[\"type\"]\n",
    "        ),\n",
    "        axis=1\n",
    "    )\n",
    "\n",
    "    df[\"pricing_error\"] = df[\"lastPrice\"] - df[\"bs_price\"]\n",
    "    return df"
   ]
  },
  {
   "cell_type": "code",
   "execution_count": 7,
   "metadata": {},
   "outputs": [],
   "source": [
    "#df.to_csv(\"AAPL_option_chain.csv\", index=False)"
   ]
  },
  {
   "cell_type": "code",
   "execution_count": 6,
   "metadata": {},
   "outputs": [],
   "source": [
    "def enrich_option_data(df, underlying_price):\n",
    "    \"\"\"\n",
    "    Enriches options DataFrame with moneyness & days-to-expiration.\n",
    "    \"\"\"\n",
    "    df = df.copy()\n",
    "    df[\"moneyness\"] = df[\"strike\"] / underlying_price\n",
    "    df[\"current_date\"] = pd.Timestamp.today().normalize()\n",
    "    df[\"expiration\"] = pd.to_datetime(df[\"expiration\"])\n",
    "    df[\"days_to_expiration\"] = (df[\"expiration\"] - df[\"current_date\"]).dt.days\n",
    "    df.drop(columns=[\"current_date\"], inplace=True)\n",
    "    return df"
   ]
  },
  {
   "cell_type": "code",
   "execution_count": 9,
   "metadata": {},
   "outputs": [
    {
     "data": {
      "text/plain": [
       "'# 🚀 **Run the Full Pipeline**\\nticker_symbol = \"AAPL\"\\n\\n# Step 1: Fetch latest stock price\\nS = get_todays_price(ticker_symbol)\\nprint(f\"✅ Latest {ticker_symbol} price: ${S}\")\\n\\n# Step 2: Fetch option chain\\ndf = fetch_full_option_chain(ticker_symbol, max_expirations=100)\\n\\n# Step 3: Enrich the data\\nenriched_df = enrich_option_data(df, underlying_price=S)\\n\\n# Display result\\nprint(enriched_df.head())\\n\"\\n'"
      ]
     },
     "execution_count": 9,
     "metadata": {},
     "output_type": "execute_result"
    }
   ],
   "source": [
    "\"\"\"# 🚀 **Run the Full Pipeline**\n",
    "ticker_symbol = \"AAPL\"\n",
    "\n",
    "# Step 1: Fetch latest stock price\n",
    "S = get_todays_price(ticker_symbol)\n",
    "print(f\"✅ Latest {ticker_symbol} price: ${S}\")\n",
    "\n",
    "# Step 2: Fetch option chain\n",
    "df = fetch_full_option_chain(ticker_symbol, max_expirations=100)\n",
    "\n",
    "# Step 3: Enrich the data\n",
    "enriched_df = enrich_option_data(df, underlying_price=S)\n",
    "\n",
    "# Display result\n",
    "print(enriched_df.head())\n",
    "\"\n",
    "\"\"\"\n"
   ]
  },
  {
   "cell_type": "code",
   "execution_count": 10,
   "metadata": {},
   "outputs": [],
   "source": [
    "#enriched_df.to_csv(\"AAPL_option_chain.csv\", index=False)"
   ]
  },
  {
   "cell_type": "code",
   "execution_count": 9,
   "metadata": {},
   "outputs": [
    {
     "name": "stdout",
     "output_type": "stream",
     "text": [
      "Fetched 105 contracts for expiry 2025-03-14\n",
      "Fetched 164 contracts for expiry 2025-03-21\n",
      "Fetched 76 contracts for expiry 2025-03-28\n",
      "Fetched 73 contracts for expiry 2025-04-04\n",
      "Fetched 52 contracts for expiry 2025-04-11\n"
     ]
    },
    {
     "data": {
      "text/html": [
       "<div>\n",
       "<style scoped>\n",
       "    .dataframe tbody tr th:only-of-type {\n",
       "        vertical-align: middle;\n",
       "    }\n",
       "\n",
       "    .dataframe tbody tr th {\n",
       "        vertical-align: top;\n",
       "    }\n",
       "\n",
       "    .dataframe thead th {\n",
       "        text-align: right;\n",
       "    }\n",
       "</style>\n",
       "<table border=\"1\" class=\"dataframe\">\n",
       "  <thead>\n",
       "    <tr style=\"text-align: right;\">\n",
       "      <th></th>\n",
       "      <th>contractSymbol</th>\n",
       "      <th>type</th>\n",
       "      <th>strike</th>\n",
       "      <th>lastPrice</th>\n",
       "      <th>bs_price</th>\n",
       "      <th>pricing_error</th>\n",
       "    </tr>\n",
       "  </thead>\n",
       "  <tbody>\n",
       "    <tr>\n",
       "      <th>0</th>\n",
       "      <td>AAPL250314C00100000</td>\n",
       "      <td>call</td>\n",
       "      <td>100.0</td>\n",
       "      <td>133.96</td>\n",
       "      <td>127.941619</td>\n",
       "      <td>6.018381</td>\n",
       "    </tr>\n",
       "    <tr>\n",
       "      <th>1</th>\n",
       "      <td>AAPL250314C00120000</td>\n",
       "      <td>call</td>\n",
       "      <td>120.0</td>\n",
       "      <td>120.95</td>\n",
       "      <td>107.901410</td>\n",
       "      <td>13.048590</td>\n",
       "    </tr>\n",
       "    <tr>\n",
       "      <th>2</th>\n",
       "      <td>AAPL250314C00130000</td>\n",
       "      <td>call</td>\n",
       "      <td>130.0</td>\n",
       "      <td>96.75</td>\n",
       "      <td>97.925713</td>\n",
       "      <td>-1.175713</td>\n",
       "    </tr>\n",
       "    <tr>\n",
       "      <th>3</th>\n",
       "      <td>AAPL250314C00140000</td>\n",
       "      <td>call</td>\n",
       "      <td>140.0</td>\n",
       "      <td>88.89</td>\n",
       "      <td>88.009557</td>\n",
       "      <td>0.880443</td>\n",
       "    </tr>\n",
       "    <tr>\n",
       "      <th>4</th>\n",
       "      <td>AAPL250314C00145000</td>\n",
       "      <td>call</td>\n",
       "      <td>145.0</td>\n",
       "      <td>84.85</td>\n",
       "      <td>82.925437</td>\n",
       "      <td>1.924563</td>\n",
       "    </tr>\n",
       "  </tbody>\n",
       "</table>\n",
       "</div>"
      ],
      "text/plain": [
       "        contractSymbol  type  strike  lastPrice    bs_price  pricing_error\n",
       "0  AAPL250314C00100000  call   100.0     133.96  127.941619       6.018381\n",
       "1  AAPL250314C00120000  call   120.0     120.95  107.901410      13.048590\n",
       "2  AAPL250314C00130000  call   130.0      96.75   97.925713      -1.175713\n",
       "3  AAPL250314C00140000  call   140.0      88.89   88.009557       0.880443\n",
       "4  AAPL250314C00145000  call   145.0      84.85   82.925437       1.924563"
      ]
     },
     "execution_count": 9,
     "metadata": {},
     "output_type": "execute_result"
    }
   ],
   "source": [
    "# Choose your ticker\n",
    "ticker_symbol = \"AAPL\"\n",
    "\n",
    "# Step 1: Get underlying price\n",
    "S = get_todays_price(ticker_symbol)\n",
    "\n",
    "# Step 2: Fetch option chain\n",
    "df = fetch_full_option_chain(ticker_symbol, max_expirations=5)\n",
    "\n",
    "# Step 3: Enrich with derived metrics\n",
    "enriched_df = enrich_option_data(df, underlying_price=S)\n",
    "\n",
    "# Step 4: Apply Black-Scholes pricing\n",
    "bs_df = calculate_bs_prices(enriched_df, S)\n",
    "\n",
    "# Step 5: View results\n",
    "bs_df[[\"contractSymbol\", \"type\", \"strike\", \"lastPrice\", \"bs_price\", \"pricing_error\"]].head()\n"
   ]
  }
 ],
 "metadata": {
  "kernelspec": {
   "display_name": "base",
   "language": "python",
   "name": "python3"
  },
  "language_info": {
   "codemirror_mode": {
    "name": "ipython",
    "version": 3
   },
   "file_extension": ".py",
   "mimetype": "text/x-python",
   "name": "python",
   "nbconvert_exporter": "python",
   "pygments_lexer": "ipython3",
   "version": "3.12.4"
  }
 },
 "nbformat": 4,
 "nbformat_minor": 2
}
